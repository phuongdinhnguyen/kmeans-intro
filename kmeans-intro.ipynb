{
 "cells": [
  {
   "cell_type": "code",
   "execution_count": 2,
   "id": "94ac87df",
   "metadata": {},
   "outputs": [],
   "source": [
    "import numpy as np\n",
    "import matplotlib.pyplot as plt\n",
    "import matplotlib.axes as axes\n",
    "import sys\n",
    "import sklearn"
   ]
  },
  {
   "cell_type": "code",
   "execution_count": 3,
   "id": "4d25a428",
   "metadata": {},
   "outputs": [],
   "source": [
    "from keras.datasets import mnist"
   ]
  },
  {
   "cell_type": "code",
   "execution_count": 5,
   "id": "487ff831",
   "metadata": {},
   "outputs": [],
   "source": [
    "(x_train, y_train), (x_test, y_test) = mnist.load_data()"
   ]
  },
  {
   "cell_type": "code",
   "execution_count": 17,
   "id": "a5572bc4",
   "metadata": {},
   "outputs": [
    {
     "name": "stdout",
     "output_type": "stream",
     "text": [
      "(60000, 28, 28)\n",
      "[5 0 4 ... 5 6 8]\n"
     ]
    }
   ],
   "source": [
    "print(x_train.shape)\n",
    "print(y_train)"
   ]
  },
  {
   "cell_type": "code",
   "execution_count": 7,
   "id": "0ff2ae45",
   "metadata": {},
   "outputs": [
    {
     "data": {
      "text/plain": [
       "(-0.5, 27.5, 27.5, -0.5)"
      ]
     },
     "execution_count": 7,
     "metadata": {},
     "output_type": "execute_result"
    },
    {
     "data": {
      "image/png": "[encoded data removed]",
      "text/plain": [
       "<Figure size 640x480 with 5 Axes>"
      ]
     },
     "metadata": {},
     "output_type": "display_data"
    }
   ],
   "source": [
    "plt.subplot(3,3,1).matshow(x_train[1])\n",
    "plt.subplot(3,3,2).matshow(x_train[2])\n",
    "plt.subplot(3,3,3).matshow(x_train[3])\n",
    "plt.subplot(3,3,4).matshow(x_train[4])\n",
    "plt.subplot(3,3,5).matshow(x_train[5])\n",
    "plt.axis('off')"
   ]
  },
  {
   "cell_type": "code",
   "execution_count": 132,
   "id": "ce2378ef",
   "metadata": {},
   "outputs": [
    {
     "name": "stdout",
     "output_type": "stream",
     "text": [
      "(60000, 784)\n",
      "(60000,)\n"
     ]
    }
   ],
   "source": [
    "#convert image to 1-d array - chuyển đổi ảnh thành mảng 1 chiều\n",
    "X = x_train.reshape(len(x_train), -1)\n",
    "Y = y_train\n",
    "X_2 = X\n",
    "X = X / 255.0\n",
    "print(X.shape)\n",
    "print(Y.shape)"
   ]
  },
  {
   "cell_type": "code",
   "execution_count": 95,
   "id": "f57f6b49",
   "metadata": {},
   "outputs": [],
   "source": [
    "from sklearn.cluster import KMeans"
   ]
  },
  {
   "cell_type": "markdown",
   "id": "0f3fb656",
   "metadata": {},
   "source": [
    "# chạy kmeans với k = 10"
   ]
  },
  {
   "cell_type": "code",
   "execution_count": 66,
   "id": "d7b4672d",
   "metadata": {},
   "outputs": [
    {
     "data": {
      "text/html": [
       "<style>#sk-container-id-2 {color: black;background-color: white;}#sk-container-id-2 pre{padding: 0;}#sk-container-id-2 div.sk-toggleable {background-color: white;}#sk-container-id-2 label.sk-toggleable__label {cursor: pointer;display: block;width: 100%;margin-bottom: 0;padding: 0.3em;box-sizing: border-box;text-align: center;}#sk-container-id-2 label.sk-toggleable__label-arrow:before {content: \"▸\";float: left;margin-right: 0.25em;color: #696969;}#sk-container-id-2 label.sk-toggleable__label-arrow:hover:before {color: black;}#sk-container-id-2 div.sk-estimator:hover label.sk-toggleable__label-arrow:before {color: black;}#sk-container-id-2 div.sk-toggleable__content {max-height: 0;max-width: 0;overflow: hidden;text-align: left;background-color: #f0f8ff;}#sk-container-id-2 div.sk-toggleable__content pre {margin: 0.2em;color: black;border-radius: 0.25em;background-color: #f0f8ff;}#sk-container-id-2 input.sk-toggleable__control:checked~div.sk-toggleable__content {max-height: 200px;max-width: 100%;overflow: auto;}#sk-container-id-2 input.sk-toggleable__control:checked~label.sk-toggleable__label-arrow:before {content: \"▾\";}#sk-container-id-2 div.sk-estimator input.sk-toggleable__control:checked~label.sk-toggleable__label {background-color: #d4ebff;}#sk-container-id-2 div.sk-label input.sk-toggleable__control:checked~label.sk-toggleable__label {background-color: #d4ebff;}#sk-container-id-2 input.sk-hidden--visually {border: 0;clip: rect(1px 1px 1px 1px);clip: rect(1px, 1px, 1px, 1px);height: 1px;margin: -1px;overflow: hidden;padding: 0;position: absolute;width: 1px;}#sk-container-id-2 div.sk-estimator {font-family: monospace;background-color: #f0f8ff;border: 1px dotted black;border-radius: 0.25em;box-sizing: border-box;margin-bottom: 0.5em;}#sk-container-id-2 div.sk-estimator:hover {background-color: #d4ebff;}#sk-container-id-2 div.sk-parallel-item::after {content: \"\";width: 100%;border-bottom: 1px solid gray;flex-grow: 1;}#sk-container-id-2 div.sk-label:hover label.sk-toggleable__label {background-color: #d4ebff;}#sk-container-id-2 div.sk-serial::before {content: \"\";position: absolute;border-left: 1px solid gray;box-sizing: border-box;top: 0;bottom: 0;left: 50%;z-index: 0;}#sk-container-id-2 div.sk-serial {display: flex;flex-direction: column;align-items: center;background-color: white;padding-right: 0.2em;padding-left: 0.2em;position: relative;}#sk-container-id-2 div.sk-item {position: relative;z-index: 1;}#sk-container-id-2 div.sk-parallel {display: flex;align-items: stretch;justify-content: center;background-color: white;position: relative;}#sk-container-id-2 div.sk-item::before, #sk-container-id-2 div.sk-parallel-item::before {content: \"\";position: absolute;border-left: 1px solid gray;box-sizing: border-box;top: 0;bottom: 0;left: 50%;z-index: -1;}#sk-container-id-2 div.sk-parallel-item {display: flex;flex-direction: column;z-index: 1;position: relative;background-color: white;}#sk-container-id-2 div.sk-parallel-item:first-child::after {align-self: flex-end;width: 50%;}#sk-container-id-2 div.sk-parallel-item:last-child::after {align-self: flex-start;width: 50%;}#sk-container-id-2 div.sk-parallel-item:only-child::after {width: 0;}#sk-container-id-2 div.sk-dashed-wrapped {border: 1px dashed gray;margin: 0 0.4em 0.5em 0.4em;box-sizing: border-box;padding-bottom: 0.4em;background-color: white;}#sk-container-id-2 div.sk-label label {font-family: monospace;font-weight: bold;display: inline-block;line-height: 1.2em;}#sk-container-id-2 div.sk-label-container {text-align: center;}#sk-container-id-2 div.sk-container {/* jupyter's `normalize.less` sets `[hidden] { display: none; }` but bootstrap.min.css set `[hidden] { display: none !important; }` so we also need the `!important` here to be able to override the default hidden behavior on the sphinx rendered scikit-learn.org. See: https://github.com/scikit-learn/scikit-learn/issues/21755 */display: inline-block !important;position: relative;}#sk-container-id-2 div.sk-text-repr-fallback {display: none;}</style><div id=\"sk-container-id-2\" class=\"sk-top-container\"><div class=\"sk-text-repr-fallback\"><pre>KMeans(n_clusters=10)</pre><b>In a Jupyter environment, please rerun this cell to show the HTML representation or trust the notebook. <br />On GitHub, the HTML representation is unable to render, please try loading this page with nbviewer.org.</b></div><div class=\"sk-container\" hidden><div class=\"sk-item\"><div class=\"sk-estimator sk-toggleable\"><input class=\"sk-toggleable__control sk-hidden--visually\" id=\"sk-estimator-id-2\" type=\"checkbox\" checked><label for=\"sk-estimator-id-2\" class=\"sk-toggleable__label sk-toggleable__label-arrow\">KMeans</label><div class=\"sk-toggleable__content\"><pre>KMeans(n_clusters=10)</pre></div></div></div></div></div>"
      ],
      "text/plain": [
       "KMeans(n_clusters=10)"
      ]
     },
     "execution_count": 66,
     "metadata": {},
     "output_type": "execute_result"
    }
   ],
   "source": [
    "kmeans = KMeans(n_clusters = 10)\n",
    "kmeans.fit(X)"
   ]
  },
  {
   "cell_type": "code",
   "execution_count": 67,
   "id": "afd01b95",
   "metadata": {},
   "outputs": [
    {
     "data": {
      "text/plain": [
       "array([8, 7, 2, 4, 5, 3, 1, 8, 1, 5, 9, 4, 9, 6, 1])"
      ]
     },
     "execution_count": 67,
     "metadata": {},
     "output_type": "execute_result"
    }
   ],
   "source": [
    "pred_label = kmeans.predict(X)\n",
    "pred_label[:15]"
   ]
  },
  {
   "cell_type": "code",
   "execution_count": 24,
   "id": "e6a8f07d",
   "metadata": {},
   "outputs": [
    {
     "data": {
      "text/plain": [
       "array([5, 0, 4, 1, 9, 2, 1, 3, 1, 4, 3, 5, 3, 6, 1], dtype=uint8)"
      ]
     },
     "execution_count": 24,
     "metadata": {},
     "output_type": "execute_result"
    }
   ],
   "source": [
    "y_train[:15]"
   ]
  },
  {
   "cell_type": "markdown",
   "id": "aaecfa7f",
   "metadata": {},
   "source": [
    "do k-means tự gắn label vào, nên label sau khi chạy xong không phản ánh đúng ảnh đó là số nào, mà nó đánh theo số clusters.\n",
    "vì vậy ta phải gán lại nhãn cho đống trên, bằng cách đếm và gán theo số đông."
   ]
  },
  {
   "cell_type": "code",
   "execution_count": 94,
   "id": "97080abf",
   "metadata": {},
   "outputs": [],
   "source": [
    "# mảng 2 chiều: đếm số label và gán lại cho đúng\n",
    "\n",
    "def find_true_label(pred_label, y_train):\n",
    "    rows, cols = (11, 11)\n",
    "    count_label = [[0 for i in range(cols)] for j in range(rows)]\n",
    "\n",
    "    for idx in range(0, pred_label.size):\n",
    "        count_label[pred_label[idx]][y_train[idx]] += 1\n",
    "\n",
    "    for idx in range(0, 10):\n",
    "        print(idx,' ',count_label[idx])\n",
    "        \n",
    "    cluster_true_label = [0]*10\n",
    "\n",
    "    for idx in range (0, 10):\n",
    "        cluster_true_label[idx] = count_label[idx].index(max(count_label[idx]))\n",
    "\n",
    "    print([0, 1, 2, 3, 4, 5, 6, 7, 8, 9])\n",
    "    print(cluster_true_label)\n",
    "\n",
    "    true_pred_label = [0]*y_train.size\n",
    "    for idx in range (0, y_train.size):\n",
    "        true_pred_label[idx] = cluster_true_label[pred_label[idx]]\n",
    "\n",
    "    print(y_train[:20])\n",
    "    print(true_pred_label[:20])\n",
    "    \n",
    "    return true_pred_label"
   ]
  },
  {
   "cell_type": "code",
   "execution_count": 91,
   "id": "72a34bd9",
   "metadata": {},
   "outputs": [
    {
     "name": "stdout",
     "output_type": "stream",
     "text": [
      "0   [2799, 0, 10, 15, 10, 62, 98, 15, 38, 37, 0]\n",
      "1   [3, 3717, 365, 428, 159, 164, 271, 327, 297, 240, 0]\n",
      "2   [38, 6, 174, 176, 3189, 375, 82, 1795, 193, 2901, 0]\n",
      "3   [17, 9, 4197, 215, 38, 15, 87, 39, 56, 13, 0]\n",
      "4   [21, 2978, 352, 104, 309, 800, 223, 283, 419, 117, 0]\n",
      "5   [14, 9, 69, 48, 1940, 344, 1, 3773, 184, 2460, 0]\n",
      "6   [181, 8, 212, 57, 164, 121, 4914, 4, 47, 7, 0]\n",
      "7   [2504, 0, 95, 124, 11, 248, 122, 14, 32, 19, 0]\n",
      "8   [185, 10, 156, 1043, 21, 1520, 92, 10, 3447, 70, 0]\n",
      "9   [161, 5, 328, 3921, 1, 1772, 28, 5, 1138, 85, 0]\n",
      "[0, 1, 2, 3, 4, 5, 6, 7, 8, 9]\n",
      "[0, 1, 4, 2, 1, 7, 6, 0, 8, 3]\n",
      "[5 0 4 1 9 2 1 3 1 4 3 5 3 6 1 7 2 8 6 9]\n",
      "[8, 0, 4, 1, 7, 2, 1, 8, 1, 7, 3, 1, 3, 6, 1, 7, 2, 8, 6, 7]\n"
     ]
    }
   ],
   "source": [
    "pred_Y = find_true_label(pred_label, y_train)\n"
   ]
  },
  {
   "cell_type": "markdown",
   "id": "b008a831",
   "metadata": {},
   "source": [
    "## tính accuracy của k means"
   ]
  },
  {
   "cell_type": "code",
   "execution_count": 92,
   "id": "3719602a",
   "metadata": {},
   "outputs": [
    {
     "name": "stdout",
     "output_type": "stream",
     "text": [
      "Accuracy: 0.59065\n",
      "\n"
     ]
    }
   ],
   "source": [
    "from sklearn import metrics\n",
    "    \n",
    "print('Accuracy: {}\\n'.format(metrics.accuracy_score(Y, pred_Y)))"
   ]
  },
  {
   "cell_type": "markdown",
   "id": "51610c53",
   "metadata": {},
   "source": [
    "### áp dụng pca"
   ]
  },
  {
   "cell_type": "code",
   "execution_count": 113,
   "id": "99d99d69",
   "metadata": {},
   "outputs": [
    {
     "name": "stdout",
     "output_type": "stream",
     "text": [
      "(60000, 784)\n"
     ]
    },
    {
     "data": {
      "text/html": [
       "<style>#sk-container-id-7 {color: black;background-color: white;}#sk-container-id-7 pre{padding: 0;}#sk-container-id-7 div.sk-toggleable {background-color: white;}#sk-container-id-7 label.sk-toggleable__label {cursor: pointer;display: block;width: 100%;margin-bottom: 0;padding: 0.3em;box-sizing: border-box;text-align: center;}#sk-container-id-7 label.sk-toggleable__label-arrow:before {content: \"▸\";float: left;margin-right: 0.25em;color: #696969;}#sk-container-id-7 label.sk-toggleable__label-arrow:hover:before {color: black;}#sk-container-id-7 div.sk-estimator:hover label.sk-toggleable__label-arrow:before {color: black;}#sk-container-id-7 div.sk-toggleable__content {max-height: 0;max-width: 0;overflow: hidden;text-align: left;background-color: #f0f8ff;}#sk-container-id-7 div.sk-toggleable__content pre {margin: 0.2em;color: black;border-radius: 0.25em;background-color: #f0f8ff;}#sk-container-id-7 input.sk-toggleable__control:checked~div.sk-toggleable__content {max-height: 200px;max-width: 100%;overflow: auto;}#sk-container-id-7 input.sk-toggleable__control:checked~label.sk-toggleable__label-arrow:before {content: \"▾\";}#sk-container-id-7 div.sk-estimator input.sk-toggleable__control:checked~label.sk-toggleable__label {background-color: #d4ebff;}#sk-container-id-7 div.sk-label input.sk-toggleable__control:checked~label.sk-toggleable__label {background-color: #d4ebff;}#sk-container-id-7 input.sk-hidden--visually {border: 0;clip: rect(1px 1px 1px 1px);clip: rect(1px, 1px, 1px, 1px);height: 1px;margin: -1px;overflow: hidden;padding: 0;position: absolute;width: 1px;}#sk-container-id-7 div.sk-estimator {font-family: monospace;background-color: #f0f8ff;border: 1px dotted black;border-radius: 0.25em;box-sizing: border-box;margin-bottom: 0.5em;}#sk-container-id-7 div.sk-estimator:hover {background-color: #d4ebff;}#sk-container-id-7 div.sk-parallel-item::after {content: \"\";width: 100%;border-bottom: 1px solid gray;flex-grow: 1;}#sk-container-id-7 div.sk-label:hover label.sk-toggleable__label {background-color: #d4ebff;}#sk-container-id-7 div.sk-serial::before {content: \"\";position: absolute;border-left: 1px solid gray;box-sizing: border-box;top: 0;bottom: 0;left: 50%;z-index: 0;}#sk-container-id-7 div.sk-serial {display: flex;flex-direction: column;align-items: center;background-color: white;padding-right: 0.2em;padding-left: 0.2em;position: relative;}#sk-container-id-7 div.sk-item {position: relative;z-index: 1;}#sk-container-id-7 div.sk-parallel {display: flex;align-items: stretch;justify-content: center;background-color: white;position: relative;}#sk-container-id-7 div.sk-item::before, #sk-container-id-7 div.sk-parallel-item::before {content: \"\";position: absolute;border-left: 1px solid gray;box-sizing: border-box;top: 0;bottom: 0;left: 50%;z-index: -1;}#sk-container-id-7 div.sk-parallel-item {display: flex;flex-direction: column;z-index: 1;position: relative;background-color: white;}#sk-container-id-7 div.sk-parallel-item:first-child::after {align-self: flex-end;width: 50%;}#sk-container-id-7 div.sk-parallel-item:last-child::after {align-self: flex-start;width: 50%;}#sk-container-id-7 div.sk-parallel-item:only-child::after {width: 0;}#sk-container-id-7 div.sk-dashed-wrapped {border: 1px dashed gray;margin: 0 0.4em 0.5em 0.4em;box-sizing: border-box;padding-bottom: 0.4em;background-color: white;}#sk-container-id-7 div.sk-label label {font-family: monospace;font-weight: bold;display: inline-block;line-height: 1.2em;}#sk-container-id-7 div.sk-label-container {text-align: center;}#sk-container-id-7 div.sk-container {/* jupyter's `normalize.less` sets `[hidden] { display: none; }` but bootstrap.min.css set `[hidden] { display: none !important; }` so we also need the `!important` here to be able to override the default hidden behavior on the sphinx rendered scikit-learn.org. See: https://github.com/scikit-learn/scikit-learn/issues/21755 */display: inline-block !important;position: relative;}#sk-container-id-7 div.sk-text-repr-fallback {display: none;}</style><div id=\"sk-container-id-7\" class=\"sk-top-container\"><div class=\"sk-text-repr-fallback\"><pre>PCA(n_components=10)</pre><b>In a Jupyter environment, please rerun this cell to show the HTML representation or trust the notebook. <br />On GitHub, the HTML representation is unable to render, please try loading this page with nbviewer.org.</b></div><div class=\"sk-container\" hidden><div class=\"sk-item\"><div class=\"sk-estimator sk-toggleable\"><input class=\"sk-toggleable__control sk-hidden--visually\" id=\"sk-estimator-id-7\" type=\"checkbox\" checked><label for=\"sk-estimator-id-7\" class=\"sk-toggleable__label sk-toggleable__label-arrow\">PCA</label><div class=\"sk-toggleable__content\"><pre>PCA(n_components=10)</pre></div></div></div></div></div>"
      ],
      "text/plain": [
       "PCA(n_components=10)"
      ]
     },
     "execution_count": 113,
     "metadata": {},
     "output_type": "execute_result"
    }
   ],
   "source": [
    "from sklearn.decomposition import PCA\n",
    "pca = PCA(n_components = 10)\n",
    "print(X.shape)\n",
    "pca.fit(X)"
   ]
  },
  {
   "cell_type": "code",
   "execution_count": 114,
   "id": "1a8bacc0",
   "metadata": {},
   "outputs": [
    {
     "name": "stdout",
     "output_type": "stream",
     "text": [
      "(60000, 10)\n"
     ]
    }
   ],
   "source": [
    "X_pca = pca.transform(X)\n",
    "print(X_pca.shape)"
   ]
  },
  {
   "cell_type": "code",
   "execution_count": 115,
   "id": "8b7af9d2",
   "metadata": {},
   "outputs": [
    {
     "name": "stdout",
     "output_type": "stream",
     "text": [
      "[[ 0.48601014 -1.22617344 -0.09613394 ...  0.62651813 -1.42544281\n",
      "   0.77869181]\n",
      " [ 3.96752304 -1.15630215  2.3385866  ... -0.41173438  0.15853546\n",
      "   0.59217367]\n",
      " [-0.20333179  1.53793392 -0.73925358 ...  1.44587098 -0.44893945\n",
      "  -0.70036732]\n",
      " ...\n",
      " [-0.69824887  0.6277581  -1.01024906 ... -0.72507794 -0.34249283\n",
      "   1.05293869]\n",
      " [ 0.51218066 -0.02192911  2.01513144 ...  0.55165033 -0.06466043\n",
      "  -0.36720916]\n",
      " [-0.68014098 -0.0969367   2.18046643 ... -0.60597885  0.34178199\n",
      "  -0.47414892]]\n"
     ]
    }
   ],
   "source": [
    "print(X_pca)"
   ]
  },
  {
   "cell_type": "markdown",
   "id": "976f947d",
   "metadata": {},
   "source": [
    "### chạy lại kmeans với pca"
   ]
  },
  {
   "cell_type": "code",
   "execution_count": 116,
   "id": "1cf1e3f2",
   "metadata": {},
   "outputs": [],
   "source": [
    "kmeans_pca = KMeans(n_clusters = 10)\n",
    "kmeans_pca.fit(X_pca)\n",
    "pca_pred_label = kmeans_pca.predict(X_pca)"
   ]
  },
  {
   "cell_type": "code",
   "execution_count": 119,
   "id": "8db1e691",
   "metadata": {},
   "outputs": [
    {
     "name": "stdout",
     "output_type": "stream",
     "text": [
      "0   [8, 7, 58, 35, 1767, 251, 1, 3589, 220, 2285, 0]\n",
      "1   [166, 7, 231, 36, 224, 73, 4593, 4, 55, 9, 0]\n",
      "2   [17, 7, 4087, 199, 35, 12, 198, 41, 80, 16, 0]\n",
      "3   [43, 4, 184, 181, 3191, 401, 91, 1812, 197, 2839, 0]\n",
      "4   [3069, 0, 23, 15, 12, 74, 72, 18, 36, 47, 0]\n",
      "5   [176, 3, 317, 3832, 0, 1639, 32, 4, 1023, 76, 0]\n",
      "6   [129, 9, 145, 1007, 14, 1252, 54, 10, 3163, 77, 0]\n",
      "7   [2272, 0, 130, 153, 15, 470, 150, 14, 48, 17, 0]\n",
      "8   [19, 3071, 257, 107, 325, 815, 192, 243, 555, 135, 0]\n",
      "9   [24, 3634, 526, 566, 259, 434, 535, 530, 474, 448, 0]\n",
      "[0, 1, 2, 3, 4, 5, 6, 7, 8, 9]\n",
      "[7, 6, 2, 4, 0, 3, 8, 0, 1, 1]\n",
      "[5 0 4 1 9 2 1 3 1 4 3 5 3 6 1 7 2 8 6 9]\n",
      "[8, 0, 4, 1, 7, 2, 1, 8, 1, 7, 3, 1, 3, 6, 1, 7, 2, 8, 1, 7]\n",
      "Accuracy: 0.5750166666666666\n"
     ]
    }
   ],
   "source": [
    "pca_pred_Y = find_true_label(pca_pred_label, y_train)\n",
    "print('Accuracy: {}'.format(metrics.accuracy_score(Y, pca_pred_Y)))"
   ]
  },
  {
   "cell_type": "markdown",
   "id": "7d6d57ad",
   "metadata": {},
   "source": [
    "##### giảm số chiều xuống 10, accuracy giảm\n"
   ]
  },
  {
   "cell_type": "markdown",
   "id": "a5634ccb",
   "metadata": {},
   "source": [
    "### thử với TSNE (trong này yêu cầu n_components phải nhỏ hơn 4)"
   ]
  },
  {
   "cell_type": "code",
   "execution_count": null,
   "id": "bc2a2531",
   "metadata": {},
   "outputs": [],
   "source": [
    "from sklearn.manifold import TSNE\n",
    "X_tsne = TSNE(n_components = 2).fit_transform(X)"
   ]
  },
  {
   "cell_type": "code",
   "execution_count": null,
   "id": "a7789269",
   "metadata": {},
   "outputs": [],
   "source": [
    "print(X_tsne.shape)\n",
    "kmeans_tsne = KMeans(n_clusters = 10)\n",
    "kmeans_tsne.fit(X_tsne)\n",
    "tsne_pred_label = kmeans_tsne.predict(X_tsne)\n",
    "tsne_pred_Y = find_true_label(tsne_pred_label, y_train)\n",
    "print('Accuracy: {}'.format(metrics.accuracy_score(Y, tsne_pred_Y)))"
   ]
  },
  {
   "cell_type": "markdown",
   "id": "e22c44de",
   "metadata": {},
   "source": [
    "### thử với ISOMAP"
   ]
  },
  {
   "cell_type": "code",
   "execution_count": null,
   "id": "2e9b59f2",
   "metadata": {},
   "outputs": [],
   "source": [
    "from sklearn.manifold import Isomap\n",
    "X_isomap = Isomap(n_components = 2).fit_transform(X)\n",
    "print(X_isomap.shape)"
   ]
  },
  {
   "cell_type": "code",
   "execution_count": null,
   "id": "d94ac611",
   "metadata": {},
   "outputs": [],
   "source": [
    "print(X_isomap.shape)\n",
    "kmeans_isomap = KMeans(n_clusters = 10)\n",
    "kmeans_isomap.fit(X_isomap)\n",
    "isomap_pred_label = kmeans_isomap.predict(X_isomap)\n",
    "isomap_pred_Y = find_true_label(isomap_pred_label, y_train)\n",
    "print('Accuracy: {}'.format(metrics.accuracy_score(Y, isomap_pred_Y)))"
   ]
  },
  {
   "cell_type": "markdown",
   "id": "a455ff08",
   "metadata": {},
   "source": [
    "do thời gian chạy quá lâu nên em chưa thể chạy được isomap và tsne"
   ]
  },
  {
   "cell_type": "markdown",
   "id": "f989b889",
   "metadata": {},
   "source": [
    "###### thử phương pháp pixel centering"
   ]
  },
  {
   "cell_type": "code",
   "execution_count": 133,
   "id": "2e75951a",
   "metadata": {},
   "outputs": [
    {
     "name": "stdout",
     "output_type": "stream",
     "text": [
      "33.318421449829934\n",
      "9.893771063189535e-15\n"
     ]
    }
   ],
   "source": [
    "mean_of_X = X_2.mean()\n",
    "print(mean_of_X)\n",
    "X_center = X_2 - mean_of_X\n",
    "print(X_center.mean())"
   ]
  },
  {
   "cell_type": "code",
   "execution_count": 134,
   "id": "d31d5cf8",
   "metadata": {},
   "outputs": [
    {
     "name": "stdout",
     "output_type": "stream",
     "text": [
      "(60000, 784)\n",
      "0   [5, 10, 65, 35, 1889, 165, 1, 3766, 162, 2442, 0]\n",
      "1   [1148, 6, 223, 465, 184, 1584, 1407, 11, 304, 28, 0]\n",
      "2   [223, 5, 257, 3868, 0, 1811, 33, 5, 1010, 83, 0]\n",
      "3   [2, 3046, 327, 50, 207, 228, 45, 257, 268, 86, 0]\n",
      "4   [165, 6, 133, 33, 142, 72, 3985, 4, 45, 9, 0]\n",
      "5   [78, 8, 178, 914, 11, 961, 23, 17, 3487, 72, 0]\n",
      "6   [7, 9, 4152, 157, 33, 5, 65, 40, 43, 16, 0]\n",
      "7   [44, 6, 193, 168, 3201, 372, 65, 1804, 178, 2913, 0]\n",
      "8   [3, 3646, 387, 419, 168, 172, 240, 341, 325, 261, 0]\n",
      "9   [4248, 0, 43, 22, 7, 51, 54, 20, 29, 39, 0]\n",
      "[0, 1, 2, 3, 4, 5, 6, 7, 8, 9]\n",
      "[7, 5, 3, 1, 6, 8, 2, 4, 1, 0]\n",
      "[5 0 4 1 9 2 1 3 1 4 3 5 3 6 1 7 2 8 6 9]\n",
      "[8, 0, 4, 1, 7, 2, 1, 8, 1, 7, 3, 1, 3, 6, 1, 7, 2, 8, 6, 7]\n",
      "Accuracy: 0.58305\n"
     ]
    }
   ],
   "source": [
    "print(X_center.shape)\n",
    "kmeans_center = KMeans(n_clusters = 10)\n",
    "kmeans_center.fit(X_center)\n",
    "center_pred_label = kmeans_center.predict(X_center)\n",
    "center_pred_Y = find_true_label(center_pred_label, y_train)\n",
    "print('Accuracy: {}'.format(metrics.accuracy_score(Y, center_pred_Y)))"
   ]
  },
  {
   "cell_type": "markdown",
   "id": "b00d1229",
   "metadata": {},
   "source": [
    "pixel centering cho accuracy bị giảm đi so với normalizing như ban đầu"
   ]
  },
  {
   "cell_type": "markdown",
   "id": "61d4e385",
   "metadata": {},
   "source": [
    "##### thử phương pháp pixel standardization"
   ]
  },
  {
   "cell_type": "code",
   "execution_count": 140,
   "id": "cc2335ee",
   "metadata": {},
   "outputs": [],
   "source": [
    "std_of_X = X_2.std()\n",
    "X_standard = (X_2 - mean_of_X) / std_of_X\n",
    "type(X_standard)\n",
    "X_standard = np.clip(X_standard, -1.0, 1.0)\n",
    "X_standard = (X_standard + 1.0) / 2.0"
   ]
  },
  {
   "cell_type": "code",
   "execution_count": 141,
   "id": "8a4e9778",
   "metadata": {},
   "outputs": [
    {
     "name": "stdout",
     "output_type": "stream",
     "text": [
      "(60000, 784)\n",
      "0   [11, 7, 48, 199, 1543, 281, 1, 2401, 239, 2481, 0]\n",
      "1   [19, 5, 53, 30, 1585, 257, 1, 2921, 238, 1764, 0]\n",
      "2   [66, 4, 212, 56, 2245, 151, 604, 480, 125, 1333, 0]\n",
      "3   [613, 12, 144, 1228, 19, 1949, 133, 3, 3248, 46, 0]\n",
      "4   [216, 11, 179, 66, 155, 146, 4627, 2, 44, 7, 0]\n",
      "5   [21, 2941, 239, 64, 200, 672, 185, 195, 306, 76, 0]\n",
      "6   [4788, 0, 70, 34, 4, 71, 85, 16, 36, 32, 0]\n",
      "7   [0, 3742, 304, 333, 79, 85, 187, 206, 226, 117, 0]\n",
      "8   [164, 7, 340, 3889, 0, 1794, 26, 6, 1355, 89, 0]\n",
      "9   [25, 13, 4369, 232, 12, 15, 69, 35, 34, 4, 0]\n",
      "[0, 1, 2, 3, 4, 5, 6, 7, 8, 9]\n",
      "[9, 7, 4, 8, 6, 1, 0, 1, 3, 2]\n",
      "[5 0 4 1 9 2 1 3 1 4 3 5 3 6 1 7 2 8 6 9]\n",
      "[8, 0, 4, 1, 9, 2, 1, 8, 1, 7, 8, 1, 3, 6, 1, 7, 2, 8, 6, 7]\n",
      "Accuracy: 0.5875166666666667\n"
     ]
    }
   ],
   "source": [
    "print(X_standard.shape)\n",
    "kmeans_standard = KMeans(n_clusters = 10)\n",
    "kmeans_standard.fit(X_standard)\n",
    "standard_pred_label = kmeans_standard.predict(X_standard)\n",
    "standard_pred_Y = find_true_label(standard_pred_label, y_train)\n",
    "print('Accuracy: {}'.format(metrics.accuracy_score(Y, standard_pred_Y)))"
   ]
  },
  {
   "cell_type": "markdown",
   "id": "28232437",
   "metadata": {},
   "source": [
    "Kết luận\n",
    "\\\n",
    "khi chạy kmeans - pixel normalization\n",
    "\\\n",
    "accuracy là: 0.59065\n",
    "\\\n",
    "khi chạy kmeans - pixel centering\n",
    "\\\n",
    "accuracy là: 0.58305\n",
    "\\\n",
    "khi chạy kmeans - pixel standardization\n",
    "\\\n",
    "accuracy là: 0.587516\n",
    "\\\n",
    "khi chạy kmeans - pixel normalization -> pca = 10 chiều\n",
    "\\\n",
    "accuracy: 0.575016"
   ]
  },
  {
   "cell_type": "code",
   "execution_count": null,
   "id": "638a128e",
   "metadata": {},
   "outputs": [],
   "source": []
  }
 ],
 "metadata": {
  "kernelspec": {
   "display_name": "Python 3 (ipykernel)",
   "language": "python",
   "name": "python3"
  },
  "language_info": {
   "codemirror_mode": {
    "name": "ipython",
    "version": 3
   },
   "file_extension": ".py",
   "mimetype": "text/x-python",
   "name": "python",
   "nbconvert_exporter": "python",
   "pygments_lexer": "ipython3",
   "version": "3.9.2"
  }
 },
 "nbformat": 4,
 "nbformat_minor": 5
}
